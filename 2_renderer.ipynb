{
 "cells": [
  {
   "cell_type": "markdown",
   "id": "5fd0ee79",
   "metadata": {},
   "source": [
    "# XAI507 Computer Vision Assignment 1 - Part 2 (Renderer)"
   ]
  },
  {
   "cell_type": "code",
   "execution_count": 10,
   "id": "e987902a",
   "metadata": {},
   "outputs": [],
   "source": [
    "import matplotlib as mpl\n",
    "from mpl_toolkits.mplot3d import Axes3D \n",
    "import matplotlib.pyplot as plt\n",
    "from math import atan, sin, cos\n",
    "import numpy as np\n"
   ]
  },
  {
   "cell_type": "code",
   "execution_count": 11,
   "id": "5f75083e",
   "metadata": {},
   "outputs": [],
   "source": [
    "#helper functions as provided in assignment specs\n",
    "\n",
    "def show_3d(vertices, edges):\n",
    "    fig = plt.figure()\n",
    "    ax = fig.gca(projection='3d')\n",
    "    for edge in edges:\n",
    "        p1 = vertices[edge[0]]\n",
    "        p2 = vertices[edge[1]]\n",
    "        ax.plot([p1[0], p2[0]],\n",
    "                [p1[1], p2[1]],\n",
    "                [p1[2], p2[2]])\n",
    "    ax.set_ylim(-5, 5)\n",
    "    ax.set_xlim(-5, 5)\n",
    "    ax.set_zlim(-5, 5)\n",
    "    plt.show()\n",
    "\n",
    "def show_2d(vertices, edges, size):\n",
    "    fig = plt.figure()\n",
    "    ax = fig.gca()\n",
    "    for edge in edges:\n",
    "        p1 = vertices[edge[0]]\n",
    "        p2 = vertices[edge[1]]\n",
    "        ax.plot([p1[0], p2[0]],\n",
    "                [p1[1], p2[1]])\n",
    "    ax.set_xlim(0, size[0])\n",
    "    ax.set_ylim(0, size[1])\n",
    "plt.show()"
   ]
  },
  {
   "cell_type": "markdown",
   "id": "aebf2788",
   "metadata": {},
   "source": [
    "<strong> i. define vertices and edges of cube </strong>"
   ]
  },
  {
   "cell_type": "code",
   "execution_count": 20,
   "id": "7116a67f",
   "metadata": {},
   "outputs": [
    {
     "data": {
      "image/png": "[encoded data removed]",
      "text/plain": [
       "<Figure size 432x288 with 1 Axes>"
      ]
     },
     "metadata": {
      "needs_background": "light"
     },
     "output_type": "display_data"
    }
   ],
   "source": [
    "img = mpl.image.imread('cube.png')\n",
    "imgplot = plt.imshow(img)\n",
    "imgplot.axes.get_xaxis().set_visible(False)\n",
    "imgplot.axes.get_yaxis().set_visible(False)\n",
    "plt.show()"
   ]
  },
  {
   "cell_type": "code",
   "execution_count": null,
   "id": "2f1a9e43",
   "metadata": {},
   "outputs": [],
   "source": [
    "#define vertices\n",
    "vertices = [(-1,1,1),(1,1,1),(-1,-1,1),(1,-1,1),(-1,1,-1),(1,1,-1),(-1,-1,-1),(1,-1,-1)]\n",
    "\n",
    "#define connected edges\n",
    "edges = [(0,1),(0,2),(0,4),(1,3),(1,5),(2,3),(2,6),(3,7),(4,5),(4,6),(5,7),(6,7)]\n",
    "\n",
    "#plot\n",
    "show_3d(vertices,edges)"
   ]
  },
  {
   "cell_type": "markdown",
   "id": "a03fddb5",
   "metadata": {},
   "source": [
    "<strong> ii. define rotation and translation matrix to find extrinsic matrix. </strong> </br>\n",
    "Turn points to homogenous and non-homogenous as required. </br>\n",
    "Camera position = [0,0,-2.5] </br>\n",
    "Camera orientation = [0,0.1,0]"
   ]
  },
  {
   "cell_type": "code",
   "execution_count": null,
   "id": "c23dc166",
   "metadata": {},
   "outputs": [],
   "source": [
    "#rotation matrix based on formula provided in assignment spec. Add extra row/column to make dimension equal to tranlsation matrix\n",
    "def rotationMatrix(u,theta):\n",
    "    ux = u[0]\n",
    "    uy = u[1]\n",
    "    uz = u[2]\n",
    "    ct = cos(theta)\n",
    "    st = sin(theta)\n",
    "    row1= [ct+ux**2*(1-ct), ux*uy*(1-ct)-uz*st, ux*uz*(1-ct)+uy*st,0]\n",
    "    row2 = [uy*ux*(1-ct)+uz*st, ct+uy**2*(1-ct), uy*ux*(1-ct)-ux*st,0]\n",
    "    row3 = [uz*ux*(1-ct)-uy*st, uz*uy*(1-ct)+ux*st, ct+uz**2*(1-ct),0]\n",
    "    row4 = [0,0,0,1]\n",
    "    return [row1,row2,row3,row4]\n",
    "\n",
    "#translation matrix as per lecture slides\n",
    "def translateMatrix(x_trans,y_trans,z_trans):\n",
    "    row1 = [1,0,0,-x_trans]\n",
    "    row2 = [0,1,0,-y_trans]\n",
    "    row3 = [0,0,1,-z_trans]\n",
    "    row4 = [0,0,0,1]\n",
    "    return [row1, row2, row3, row4]\n",
    "\n",
    "#function to normalise a vector\n",
    "def normaliseVector(A):\n",
    "    return A/np.linalg.norm(A)\n",
    "\n",
    "#function to find angle between two vectors in radians\n",
    "def findAngle(A,B):\n",
    "    mag_A = np.sqrt(A[0]**2+A[1]**2+A[2]**2)\n",
    "    mag_B = np.sqrt(B[0]**2+B[1]**2+B[2]**2)\n",
    "    normalise_A = normaliseVector(A)\n",
    "    normalise_B = normaliseVector(B)\n",
    "    angle = np.arccos(np.dot(normalise_A,normalise_B))\n",
    "    return angle\n",
    "\n",
    "#gets the angle required to rotate given camera orientation vector for direction x, y or z.\n",
    "def getVectorsRotation(orientation, direction):\n",
    "    if (direction==\"x\"):\n",
    "        x_value = orientation[0]\n",
    "        if x_value==0:\n",
    "            return 0\n",
    "        else:\n",
    "            return findAngle([1,0,0],[x_value,0,0])\n",
    "    elif (direction==\"y\"):\n",
    "        y_value = orientation[1]\n",
    "        if y_value==0:\n",
    "            return 0\n",
    "        else:\n",
    "            return findAngle([0,1,0],[0,y_value,0])\n",
    "    else:\n",
    "        z_value = orientation[2]\n",
    "        if z_value==0:\n",
    "            return 0\n",
    "        else:\n",
    "            return findAngle([0,0,1][0,0,z_value])\n",
    "\n",
    "#returns the final 4x4 extrinisc matrix based on homogenous coordinates\n",
    "def get_extrinsic_matrix(position, orientation):\n",
    "    #calculate angle between position and orientation\n",
    "    angle_x = getVectorsRotation(orientation, \"x\")\n",
    "    angle_y = getVectorsRotation(orientation, \"y\")\n",
    "    angle_z = getVectorsRotation(orientation, \"z\")\n",
    "    #rotate around x-axis and y-axis.\n",
    "    matrix_mult1 = np.matmul(rotationMatrix([1,0,0],angle_x), rotationMatrix([0,1,0],angle_y)) \n",
    "    #then rotate around z-axis\n",
    "    matrix_mult2 = np.matmul(matrix_mult1, rotationMatrix([0,0,1],angle_z))\n",
    "    #then translate\n",
    "    translation_matrix = translateMatrix(position[0],position[1],position[2])\n",
    "    matrix_mult3 = np.matmul(matrix_mult2,translation_matrix)\n",
    "    return matrix_mult3\n",
    "\n",
    "#turns an array of points into homogenous coordinates\n",
    "def to_homogenous(points): \n",
    "    hom_points = []\n",
    "    for point in points:\n",
    "        point = point + [1]\n",
    "        hom_points.append(point)\n",
    "    return np.array(hom_points)\n",
    "\n",
    "#converts an array of homogenous coordinates into proper 3D or 2D coordinates\n",
    "def from_homogenous(points):\n",
    "    non_hom_points = []\n",
    "    for point in points:\n",
    "        divisor = point[-1]\n",
    "        new_point = []\n",
    "        for coord in point:\n",
    "            new_point.append(coord/divisor)\n",
    "        non_hom_points.append(new_point[:-1])\n",
    "    return np.array(non_hom_points)\n",
    "            \n",
    "     "
   ]
  },
  {
   "cell_type": "code",
   "execution_count": null,
   "id": "72bca06b",
   "metadata": {},
   "outputs": [],
   "source": [
    "position = [0,0,-2.5]\n",
    "orientation = [0,0.1,0]\n",
    "\n",
    "#transform cube coordinates into homogenous points\n",
    "vertices_list = []\n",
    "for point in vertices:\n",
    "    vertices_list.append(list(point))\n",
    "hom_vertices = np.array(to_homogenous(vertices_list))\n",
    "\n",
    "#get extrinsic matrix\n",
    "extrinsic_matrix = get_extrinsic_matrix(position, orientation)\n",
    "\n",
    "#transform vertices by multiplying with extrinsic matrix\n",
    "vertices_transformed = []\n",
    "non_hom_vertices_transformed = []\n",
    "for point in hom_vertices:\n",
    "    mat = np.matmul(extrinsic_matrix, point.transpose())\n",
    "    vertices_transformed.append(mat)\n",
    "\n",
    "#turn back to non-homogenous matrix for the purpose of plotting\n",
    "non_hom_vertices_transformed = from_homogenous(vertices_transformed)\n",
    "show_3d(non_hom_vertices_transformed, edges)"
   ]
  },
  {
   "cell_type": "markdown",
   "id": "4419d850",
   "metadata": {},
   "source": [
    "<strong> iii. get intrinsic matrix, transform camera coordinates into projected coordinates and plot 2D image. </strong> </br>\n",
    "Turn points into homogenous and non-homogenous as required."
   ]
  },
  {
   "cell_type": "code",
   "execution_count": null,
   "id": "32041d2f",
   "metadata": {},
   "outputs": [],
   "source": [
    "#function that creates the full intrinsic transofrmation including the projection matrix\n",
    "def get_intrinsic_matrix(f,s):\n",
    "    K = np.array([[f,0,s[0]],[0,f,s[1]],[0,0,1]])\n",
    "    mat = [[1,0,0,0],[0,1,0,0],[0,0,1,0]]\n",
    "    return np.matmul(K,mat)"
   ]
  },
  {
   "cell_type": "code",
   "execution_count": null,
   "id": "fc6f9890",
   "metadata": {},
   "outputs": [],
   "source": [
    "#set focal length and pixel sizes\n",
    "f = 0.4\n",
    "s = (0.51, 0.49)\n",
    "\n",
    "#get intrinsic matrix\n",
    "intrinsic_matrix = get_intrinsic_matrix(f,s)\n",
    "\n",
    "\n",
    "#transform camera coordinates into projected coordinates\n",
    "image = []\n",
    "for point in vertices_transformed:\n",
    "    image.append(np.matmul(intrinsic_matrix, point))\n",
    "\n",
    "#convert to non-homogenous matrix\n",
    "image = from_homogenous(image)    \n",
    "\n",
    "#resize image to use helper-function show_2D.\n",
    "image_resized = np.array(image)*200\n",
    "\n",
    "#plot image\n",
    "show_2d(image_resized, edges, [200,200])"
   ]
  }
 ],
 "metadata": {
  "kernelspec": {
   "display_name": "Python 3 (ipykernel)",
   "language": "python",
   "name": "python3"
  },
  "language_info": {
   "codemirror_mode": {
    "name": "ipython",
    "version": 3
   },
   "file_extension": ".py",
   "mimetype": "text/x-python",
   "name": "python",
   "nbconvert_exporter": "python",
   "pygments_lexer": "ipython3",
   "version": "3.10.2"
  }
 },
 "nbformat": 4,
 "nbformat_minor": 5
}
